{
 "cells": [
  {
   "cell_type": "markdown",
   "id": "5ffd7179-7333-4896-82fa-95570ea9c3f5",
   "metadata": {},
   "source": [
    "# Preprocessing"
   ]
  },
  {
   "cell_type": "markdown",
   "id": "2db5def5-1c2a-42b5-8a39-4d3e02c8f9f9",
   "metadata": {},
   "source": [
    "## Load Data"
   ]
  },
  {
   "cell_type": "code",
   "execution_count": 1,
   "id": "37d0cbd1-643d-4181-9a93-8d270b62eefb",
   "metadata": {},
   "outputs": [],
   "source": [
    "import pandas as pd\n",
    "import numpy as np"
   ]
  },
  {
   "cell_type": "code",
   "execution_count": 2,
   "id": "f1132641-7152-4c2b-92c2-df7258fc7c1a",
   "metadata": {},
   "outputs": [],
   "source": [
    "df = pd.read_csv('rice_beef_coffee_price_changes.csv')"
   ]
  },
  {
   "cell_type": "code",
   "execution_count": 3,
   "id": "e003a2ca-b440-4aa5-883e-e77363fca2b2",
   "metadata": {},
   "outputs": [
    {
     "data": {
      "text/html": [
       "<div>\n",
       "<style scoped>\n",
       "    .dataframe tbody tr th:only-of-type {\n",
       "        vertical-align: middle;\n",
       "    }\n",
       "\n",
       "    .dataframe tbody tr th {\n",
       "        vertical-align: top;\n",
       "    }\n",
       "\n",
       "    .dataframe thead th {\n",
       "        text-align: right;\n",
       "    }\n",
       "</style>\n",
       "<table border=\"1\" class=\"dataframe\">\n",
       "  <thead>\n",
       "    <tr style=\"text-align: right;\">\n",
       "      <th></th>\n",
       "      <th>Year</th>\n",
       "      <th>Month</th>\n",
       "      <th>Price_beef_kilo</th>\n",
       "      <th>Price_rice_kilo</th>\n",
       "      <th>Price_coffee_kilo</th>\n",
       "      <th>Inflation_rate</th>\n",
       "      <th>Price_rice_infl</th>\n",
       "      <th>Price_beef_infl</th>\n",
       "      <th>Price_coffee_infl</th>\n",
       "    </tr>\n",
       "  </thead>\n",
       "  <tbody>\n",
       "    <tr>\n",
       "      <th>0</th>\n",
       "      <td>1992</td>\n",
       "      <td>Feb</td>\n",
       "      <td>2.52</td>\n",
       "      <td>0.28</td>\n",
       "      <td>1.51</td>\n",
       "      <td>89.59</td>\n",
       "      <td>0.53</td>\n",
       "      <td>4.78</td>\n",
       "      <td>2.86</td>\n",
       "    </tr>\n",
       "    <tr>\n",
       "      <th>1</th>\n",
       "      <td>1992</td>\n",
       "      <td>Mar</td>\n",
       "      <td>2.45</td>\n",
       "      <td>0.28</td>\n",
       "      <td>1.55</td>\n",
       "      <td>89.59</td>\n",
       "      <td>0.53</td>\n",
       "      <td>4.64</td>\n",
       "      <td>2.94</td>\n",
       "    </tr>\n",
       "    <tr>\n",
       "      <th>2</th>\n",
       "      <td>1992</td>\n",
       "      <td>Apr</td>\n",
       "      <td>2.38</td>\n",
       "      <td>0.28</td>\n",
       "      <td>1.45</td>\n",
       "      <td>89.59</td>\n",
       "      <td>0.53</td>\n",
       "      <td>4.51</td>\n",
       "      <td>2.75</td>\n",
       "    </tr>\n",
       "    <tr>\n",
       "      <th>3</th>\n",
       "      <td>1992</td>\n",
       "      <td>May</td>\n",
       "      <td>2.38</td>\n",
       "      <td>0.27</td>\n",
       "      <td>1.34</td>\n",
       "      <td>89.59</td>\n",
       "      <td>0.51</td>\n",
       "      <td>4.51</td>\n",
       "      <td>2.54</td>\n",
       "    </tr>\n",
       "    <tr>\n",
       "      <th>4</th>\n",
       "      <td>1992</td>\n",
       "      <td>Jun</td>\n",
       "      <td>2.33</td>\n",
       "      <td>0.27</td>\n",
       "      <td>1.30</td>\n",
       "      <td>89.59</td>\n",
       "      <td>0.51</td>\n",
       "      <td>4.42</td>\n",
       "      <td>2.46</td>\n",
       "    </tr>\n",
       "    <tr>\n",
       "      <th>...</th>\n",
       "      <td>...</td>\n",
       "      <td>...</td>\n",
       "      <td>...</td>\n",
       "      <td>...</td>\n",
       "      <td>...</td>\n",
       "      <td>...</td>\n",
       "      <td>...</td>\n",
       "      <td>...</td>\n",
       "      <td>...</td>\n",
       "    </tr>\n",
       "    <tr>\n",
       "      <th>355</th>\n",
       "      <td>2021</td>\n",
       "      <td>Sep</td>\n",
       "      <td>5.66</td>\n",
       "      <td>0.40</td>\n",
       "      <td>4.97</td>\n",
       "      <td>-1.29</td>\n",
       "      <td>0.39</td>\n",
       "      <td>5.59</td>\n",
       "      <td>4.91</td>\n",
       "    </tr>\n",
       "    <tr>\n",
       "      <th>356</th>\n",
       "      <td>2021</td>\n",
       "      <td>Oct</td>\n",
       "      <td>5.70</td>\n",
       "      <td>0.40</td>\n",
       "      <td>5.31</td>\n",
       "      <td>-1.29</td>\n",
       "      <td>0.39</td>\n",
       "      <td>5.63</td>\n",
       "      <td>5.24</td>\n",
       "    </tr>\n",
       "    <tr>\n",
       "      <th>357</th>\n",
       "      <td>2021</td>\n",
       "      <td>Nov</td>\n",
       "      <td>5.95</td>\n",
       "      <td>0.40</td>\n",
       "      <td>5.71</td>\n",
       "      <td>-1.29</td>\n",
       "      <td>0.39</td>\n",
       "      <td>5.87</td>\n",
       "      <td>5.64</td>\n",
       "    </tr>\n",
       "    <tr>\n",
       "      <th>358</th>\n",
       "      <td>2021</td>\n",
       "      <td>Dec</td>\n",
       "      <td>5.95</td>\n",
       "      <td>0.40</td>\n",
       "      <td>5.91</td>\n",
       "      <td>-1.29</td>\n",
       "      <td>0.39</td>\n",
       "      <td>5.87</td>\n",
       "      <td>5.83</td>\n",
       "    </tr>\n",
       "    <tr>\n",
       "      <th>359</th>\n",
       "      <td>2022</td>\n",
       "      <td>Jan</td>\n",
       "      <td>5.97</td>\n",
       "      <td>0.43</td>\n",
       "      <td>5.98</td>\n",
       "      <td>NaN</td>\n",
       "      <td>NaN</td>\n",
       "      <td>NaN</td>\n",
       "      <td>NaN</td>\n",
       "    </tr>\n",
       "  </tbody>\n",
       "</table>\n",
       "<p>360 rows × 9 columns</p>\n",
       "</div>"
      ],
      "text/plain": [
       "     Year Month  Price_beef_kilo  Price_rice_kilo  Price_coffee_kilo  \\\n",
       "0    1992   Feb             2.52             0.28               1.51   \n",
       "1    1992   Mar             2.45             0.28               1.55   \n",
       "2    1992   Apr             2.38             0.28               1.45   \n",
       "3    1992   May             2.38             0.27               1.34   \n",
       "4    1992   Jun             2.33             0.27               1.30   \n",
       "..    ...   ...              ...              ...                ...   \n",
       "355  2021   Sep             5.66             0.40               4.97   \n",
       "356  2021   Oct             5.70             0.40               5.31   \n",
       "357  2021   Nov             5.95             0.40               5.71   \n",
       "358  2021   Dec             5.95             0.40               5.91   \n",
       "359  2022   Jan             5.97             0.43               5.98   \n",
       "\n",
       "     Inflation_rate  Price_rice_infl  Price_beef_infl  Price_coffee_infl  \n",
       "0             89.59             0.53             4.78               2.86  \n",
       "1             89.59             0.53             4.64               2.94  \n",
       "2             89.59             0.53             4.51               2.75  \n",
       "3             89.59             0.51             4.51               2.54  \n",
       "4             89.59             0.51             4.42               2.46  \n",
       "..              ...              ...              ...                ...  \n",
       "355           -1.29             0.39             5.59               4.91  \n",
       "356           -1.29             0.39             5.63               5.24  \n",
       "357           -1.29             0.39             5.87               5.64  \n",
       "358           -1.29             0.39             5.87               5.83  \n",
       "359             NaN              NaN              NaN                NaN  \n",
       "\n",
       "[360 rows x 9 columns]"
      ]
     },
     "execution_count": 3,
     "metadata": {},
     "output_type": "execute_result"
    }
   ],
   "source": [
    "df"
   ]
  },
  {
   "cell_type": "code",
   "execution_count": 4,
   "id": "a2e98f45-c68b-40fa-94e9-60a12dad4ef7",
   "metadata": {},
   "outputs": [
    {
     "data": {
      "text/html": [
       "<div>\n",
       "<style scoped>\n",
       "    .dataframe tbody tr th:only-of-type {\n",
       "        vertical-align: middle;\n",
       "    }\n",
       "\n",
       "    .dataframe tbody tr th {\n",
       "        vertical-align: top;\n",
       "    }\n",
       "\n",
       "    .dataframe thead th {\n",
       "        text-align: right;\n",
       "    }\n",
       "</style>\n",
       "<table border=\"1\" class=\"dataframe\">\n",
       "  <thead>\n",
       "    <tr style=\"text-align: right;\">\n",
       "      <th></th>\n",
       "      <th>Year</th>\n",
       "      <th>Price_beef_kilo</th>\n",
       "      <th>Price_rice_kilo</th>\n",
       "      <th>Price_coffee_kilo</th>\n",
       "      <th>Inflation_rate</th>\n",
       "      <th>Price_rice_infl</th>\n",
       "      <th>Price_beef_infl</th>\n",
       "      <th>Price_coffee_infl</th>\n",
       "    </tr>\n",
       "  </thead>\n",
       "  <tbody>\n",
       "    <tr>\n",
       "      <th>count</th>\n",
       "      <td>360.000000</td>\n",
       "      <td>360.000000</td>\n",
       "      <td>360.000000</td>\n",
       "      <td>360.000000</td>\n",
       "      <td>347.000000</td>\n",
       "      <td>347.000000</td>\n",
       "      <td>347.000000</td>\n",
       "      <td>347.000000</td>\n",
       "    </tr>\n",
       "    <tr>\n",
       "      <th>mean</th>\n",
       "      <td>2006.583333</td>\n",
       "      <td>3.152056</td>\n",
       "      <td>0.364083</td>\n",
       "      <td>2.999722</td>\n",
       "      <td>36.320029</td>\n",
       "      <td>0.476167</td>\n",
       "      <td>4.044006</td>\n",
       "      <td>3.953660</td>\n",
       "    </tr>\n",
       "    <tr>\n",
       "      <th>std</th>\n",
       "      <td>8.671906</td>\n",
       "      <td>1.167673</td>\n",
       "      <td>0.131201</td>\n",
       "      <td>1.164001</td>\n",
       "      <td>27.062804</td>\n",
       "      <td>0.135525</td>\n",
       "      <td>0.900393</td>\n",
       "      <td>1.460999</td>\n",
       "    </tr>\n",
       "    <tr>\n",
       "      <th>min</th>\n",
       "      <td>1992.000000</td>\n",
       "      <td>1.630000</td>\n",
       "      <td>0.160000</td>\n",
       "      <td>1.170000</td>\n",
       "      <td>-1.290000</td>\n",
       "      <td>0.240000</td>\n",
       "      <td>2.680000</td>\n",
       "      <td>1.770000</td>\n",
       "    </tr>\n",
       "    <tr>\n",
       "      <th>25%</th>\n",
       "      <td>1999.000000</td>\n",
       "      <td>2.117500</td>\n",
       "      <td>0.260000</td>\n",
       "      <td>2.265000</td>\n",
       "      <td>12.370000</td>\n",
       "      <td>0.390000</td>\n",
       "      <td>3.185000</td>\n",
       "      <td>3.065000</td>\n",
       "    </tr>\n",
       "    <tr>\n",
       "      <th>50%</th>\n",
       "      <td>2007.000000</td>\n",
       "      <td>2.730000</td>\n",
       "      <td>0.345000</td>\n",
       "      <td>2.940000</td>\n",
       "      <td>28.300000</td>\n",
       "      <td>0.460000</td>\n",
       "      <td>4.090000</td>\n",
       "      <td>3.680000</td>\n",
       "    </tr>\n",
       "    <tr>\n",
       "      <th>75%</th>\n",
       "      <td>2014.000000</td>\n",
       "      <td>4.220000</td>\n",
       "      <td>0.440000</td>\n",
       "      <td>3.605000</td>\n",
       "      <td>59.700000</td>\n",
       "      <td>0.550000</td>\n",
       "      <td>4.735000</td>\n",
       "      <td>4.565000</td>\n",
       "    </tr>\n",
       "    <tr>\n",
       "      <th>max</th>\n",
       "      <td>2022.000000</td>\n",
       "      <td>6.170000</td>\n",
       "      <td>0.910000</td>\n",
       "      <td>6.620000</td>\n",
       "      <td>89.590000</td>\n",
       "      <td>1.120000</td>\n",
       "      <td>6.930000</td>\n",
       "      <td>9.760000</td>\n",
       "    </tr>\n",
       "  </tbody>\n",
       "</table>\n",
       "</div>"
      ],
      "text/plain": [
       "              Year  Price_beef_kilo  Price_rice_kilo  Price_coffee_kilo  \\\n",
       "count   360.000000       360.000000       360.000000         360.000000   \n",
       "mean   2006.583333         3.152056         0.364083           2.999722   \n",
       "std       8.671906         1.167673         0.131201           1.164001   \n",
       "min    1992.000000         1.630000         0.160000           1.170000   \n",
       "25%    1999.000000         2.117500         0.260000           2.265000   \n",
       "50%    2007.000000         2.730000         0.345000           2.940000   \n",
       "75%    2014.000000         4.220000         0.440000           3.605000   \n",
       "max    2022.000000         6.170000         0.910000           6.620000   \n",
       "\n",
       "       Inflation_rate  Price_rice_infl  Price_beef_infl  Price_coffee_infl  \n",
       "count      347.000000       347.000000       347.000000         347.000000  \n",
       "mean        36.320029         0.476167         4.044006           3.953660  \n",
       "std         27.062804         0.135525         0.900393           1.460999  \n",
       "min         -1.290000         0.240000         2.680000           1.770000  \n",
       "25%         12.370000         0.390000         3.185000           3.065000  \n",
       "50%         28.300000         0.460000         4.090000           3.680000  \n",
       "75%         59.700000         0.550000         4.735000           4.565000  \n",
       "max         89.590000         1.120000         6.930000           9.760000  "
      ]
     },
     "execution_count": 4,
     "metadata": {},
     "output_type": "execute_result"
    }
   ],
   "source": [
    "df.describe()"
   ]
  },
  {
   "cell_type": "markdown",
   "id": "f3ec3719-f552-4b81-a9c8-a698794ed433",
   "metadata": {},
   "source": [
    "## Data Cleaning"
   ]
  },
  {
   "cell_type": "code",
   "execution_count": 5,
   "id": "f6fa2b20-700d-46f7-9c5f-1f0e6a916134",
   "metadata": {},
   "outputs": [
    {
     "name": "stdout",
     "output_type": "stream",
     "text": [
      "Year 0\n",
      "Month 0\n",
      "Price_beef_kilo 0\n",
      "Price_rice_kilo 0\n",
      "Price_coffee_kilo 0\n",
      "Inflation_rate 13\n",
      "Price_rice_infl 13\n",
      "Price_beef_infl 13\n",
      "Price_coffee_infl 13\n"
     ]
    }
   ],
   "source": [
    "# check for null\n",
    "for col in df.columns:\n",
    "    print(col, df[col].isnull().sum())"
   ]
  },
  {
   "cell_type": "code",
   "execution_count": 6,
   "id": "d4f9586d-9b11-47db-9c23-ac8e67e53eab",
   "metadata": {},
   "outputs": [],
   "source": [
    "df.fillna(0, inplace=True)"
   ]
  },
  {
   "cell_type": "markdown",
   "id": "ae7a718d-7945-4e08-ada1-082e25658cc2",
   "metadata": {},
   "source": [
    "# Postprocessting with atoti"
   ]
  },
  {
   "cell_type": "code",
   "execution_count": 7,
   "id": "1f8c106f-59bc-47c1-890c-a139b721c99e",
   "metadata": {},
   "outputs": [
    {
     "name": "stdout",
     "output_type": "stream",
     "text": [
      "Welcome to atoti 0.6.4!\n",
      "\n",
      "By using this community edition, you agree with the license available at https://docs.atoti.io/latest/eula.html.\n",
      "Browse the official documentation at https://docs.atoti.io.\n",
      "Join the community at https://www.atoti.io/register.\n",
      "\n",
      "atoti collects telemetry data, which is used to help understand how to improve the product.\n",
      "If you don't wish to send usage data, set the ATOTI_DISABLE_TELEMETRY environment variable to True.\n",
      "\n",
      "You can hide this message by setting the ATOTI_HIDE_EULA_MESSAGE environment variable to True.\n"
     ]
    }
   ],
   "source": [
    "import atoti as tt"
   ]
  },
  {
   "cell_type": "code",
   "execution_count": 8,
   "id": "636a9ccb-7ad3-494a-a46d-a0d441b4516a",
   "metadata": {},
   "outputs": [],
   "source": [
    "session = tt.create_session()"
   ]
  },
  {
   "cell_type": "code",
   "execution_count": 9,
   "id": "dff715f7-79b7-43b7-b796-fef531980ce7",
   "metadata": {},
   "outputs": [
    {
     "data": {
      "text/html": [
       "<div>\n",
       "<style scoped>\n",
       "    .dataframe tbody tr th:only-of-type {\n",
       "        vertical-align: middle;\n",
       "    }\n",
       "\n",
       "    .dataframe tbody tr th {\n",
       "        vertical-align: top;\n",
       "    }\n",
       "\n",
       "    .dataframe thead th {\n",
       "        text-align: right;\n",
       "    }\n",
       "</style>\n",
       "<table border=\"1\" class=\"dataframe\">\n",
       "  <thead>\n",
       "    <tr style=\"text-align: right;\">\n",
       "      <th></th>\n",
       "      <th></th>\n",
       "      <th>Price_beef_kilo</th>\n",
       "      <th>Price_rice_kilo</th>\n",
       "      <th>Price_coffee_kilo</th>\n",
       "      <th>Inflation_rate</th>\n",
       "      <th>Price_rice_infl</th>\n",
       "      <th>Price_beef_infl</th>\n",
       "      <th>Price_coffee_infl</th>\n",
       "    </tr>\n",
       "    <tr>\n",
       "      <th>Month</th>\n",
       "      <th>Year</th>\n",
       "      <th></th>\n",
       "      <th></th>\n",
       "      <th></th>\n",
       "      <th></th>\n",
       "      <th></th>\n",
       "      <th></th>\n",
       "      <th></th>\n",
       "    </tr>\n",
       "  </thead>\n",
       "  <tbody>\n",
       "    <tr>\n",
       "      <th>Feb</th>\n",
       "      <th>1992</th>\n",
       "      <td>2.52</td>\n",
       "      <td>0.28</td>\n",
       "      <td>1.51</td>\n",
       "      <td>89.59</td>\n",
       "      <td>0.53</td>\n",
       "      <td>4.78</td>\n",
       "      <td>2.86</td>\n",
       "    </tr>\n",
       "    <tr>\n",
       "      <th>Mar</th>\n",
       "      <th>1992</th>\n",
       "      <td>2.45</td>\n",
       "      <td>0.28</td>\n",
       "      <td>1.55</td>\n",
       "      <td>89.59</td>\n",
       "      <td>0.53</td>\n",
       "      <td>4.64</td>\n",
       "      <td>2.94</td>\n",
       "    </tr>\n",
       "    <tr>\n",
       "      <th>Apr</th>\n",
       "      <th>1992</th>\n",
       "      <td>2.38</td>\n",
       "      <td>0.28</td>\n",
       "      <td>1.45</td>\n",
       "      <td>89.59</td>\n",
       "      <td>0.53</td>\n",
       "      <td>4.51</td>\n",
       "      <td>2.75</td>\n",
       "    </tr>\n",
       "    <tr>\n",
       "      <th>May</th>\n",
       "      <th>1992</th>\n",
       "      <td>2.38</td>\n",
       "      <td>0.27</td>\n",
       "      <td>1.34</td>\n",
       "      <td>89.59</td>\n",
       "      <td>0.51</td>\n",
       "      <td>4.51</td>\n",
       "      <td>2.54</td>\n",
       "    </tr>\n",
       "    <tr>\n",
       "      <th>Jun</th>\n",
       "      <th>1992</th>\n",
       "      <td>2.33</td>\n",
       "      <td>0.27</td>\n",
       "      <td>1.30</td>\n",
       "      <td>89.59</td>\n",
       "      <td>0.51</td>\n",
       "      <td>4.42</td>\n",
       "      <td>2.46</td>\n",
       "    </tr>\n",
       "  </tbody>\n",
       "</table>\n",
       "</div>"
      ],
      "text/plain": [
       "            Price_beef_kilo  Price_rice_kilo  Price_coffee_kilo  \\\n",
       "Month Year                                                        \n",
       "Feb   1992             2.52             0.28               1.51   \n",
       "Mar   1992             2.45             0.28               1.55   \n",
       "Apr   1992             2.38             0.28               1.45   \n",
       "May   1992             2.38             0.27               1.34   \n",
       "Jun   1992             2.33             0.27               1.30   \n",
       "\n",
       "            Inflation_rate  Price_rice_infl  Price_beef_infl  \\\n",
       "Month Year                                                     \n",
       "Feb   1992           89.59             0.53             4.78   \n",
       "Mar   1992           89.59             0.53             4.64   \n",
       "Apr   1992           89.59             0.53             4.51   \n",
       "May   1992           89.59             0.51             4.51   \n",
       "Jun   1992           89.59             0.51             4.42   \n",
       "\n",
       "            Price_coffee_infl  \n",
       "Month Year                     \n",
       "Feb   1992               2.86  \n",
       "Mar   1992               2.94  \n",
       "Apr   1992               2.75  \n",
       "May   1992               2.54  \n",
       "Jun   1992               2.46  "
      ]
     },
     "execution_count": 9,
     "metadata": {},
     "output_type": "execute_result"
    }
   ],
   "source": [
    "data = session.read_pandas(\n",
    "    df,\n",
    "    keys=['Year', 'Month'],\n",
    "    table_name='Data'\n",
    ")\n",
    "data.head()"
   ]
  },
  {
   "cell_type": "code",
   "execution_count": 10,
   "id": "cd359472-7baa-49a5-aad8-5370f4bec377",
   "metadata": {},
   "outputs": [],
   "source": [
    "cube = session.create_cube(data)"
   ]
  },
  {
   "cell_type": "code",
   "execution_count": 11,
   "id": "fa11bcc0-d1dd-4b30-98a0-07304cddbbea",
   "metadata": {},
   "outputs": [],
   "source": [
    "m,l,h = cube.measures, cube.levels, cube.hierarchies"
   ]
  },
  {
   "cell_type": "code",
   "execution_count": 12,
   "id": "23667e9d-c880-4fd6-b1b4-6faaf14f025b",
   "metadata": {},
   "outputs": [
    {
     "data": {
      "application/json": {
       "Inflation_rate.MEAN": {
        "formatter": "DOUBLE[#,###.00]"
       },
       "Inflation_rate.SUM": {
        "formatter": "DOUBLE[#,###.00]"
       },
       "Price_beef_infl.MEAN": {
        "formatter": "DOUBLE[#,###.00]"
       },
       "Price_beef_infl.SUM": {
        "formatter": "DOUBLE[#,###.00]"
       },
       "Price_beef_kilo.MEAN": {
        "formatter": "DOUBLE[#,###.00]"
       },
       "Price_beef_kilo.SUM": {
        "formatter": "DOUBLE[#,###.00]"
       },
       "Price_coffee_infl.MEAN": {
        "formatter": "DOUBLE[#,###.00]"
       },
       "Price_coffee_infl.SUM": {
        "formatter": "DOUBLE[#,###.00]"
       },
       "Price_coffee_kilo.MEAN": {
        "formatter": "DOUBLE[#,###.00]"
       },
       "Price_coffee_kilo.SUM": {
        "formatter": "DOUBLE[#,###.00]"
       },
       "Price_rice_infl.MEAN": {
        "formatter": "DOUBLE[#,###.00]"
       },
       "Price_rice_infl.SUM": {
        "formatter": "DOUBLE[#,###.00]"
       },
       "Price_rice_kilo.MEAN": {
        "formatter": "DOUBLE[#,###.00]"
       },
       "Price_rice_kilo.SUM": {
        "formatter": "DOUBLE[#,###.00]"
       },
       "contributors.COUNT": {
        "formatter": "INT[#,###]"
       }
      },
      "text/html": [
       "<ul>\n",
       "<li>Measures\n",
       "  <ul>\n",
       "  <li>Inflation_rate.MEAN\n",
       "    <ul>\n",
       "    <li>formatter: DOUBLE[#,###.00]</li>\n",
       "    </ul>\n",
       "  </li>\n",
       "  <li>Inflation_rate.SUM\n",
       "    <ul>\n",
       "    <li>formatter: DOUBLE[#,###.00]</li>\n",
       "    </ul>\n",
       "  </li>\n",
       "  <li>Price_beef_infl.MEAN\n",
       "    <ul>\n",
       "    <li>formatter: DOUBLE[#,###.00]</li>\n",
       "    </ul>\n",
       "  </li>\n",
       "  <li>Price_beef_infl.SUM\n",
       "    <ul>\n",
       "    <li>formatter: DOUBLE[#,###.00]</li>\n",
       "    </ul>\n",
       "  </li>\n",
       "  <li>Price_beef_kilo.MEAN\n",
       "    <ul>\n",
       "    <li>formatter: DOUBLE[#,###.00]</li>\n",
       "    </ul>\n",
       "  </li>\n",
       "  <li>Price_beef_kilo.SUM\n",
       "    <ul>\n",
       "    <li>formatter: DOUBLE[#,###.00]</li>\n",
       "    </ul>\n",
       "  </li>\n",
       "  <li>Price_coffee_infl.MEAN\n",
       "    <ul>\n",
       "    <li>formatter: DOUBLE[#,###.00]</li>\n",
       "    </ul>\n",
       "  </li>\n",
       "  <li>Price_coffee_infl.SUM\n",
       "    <ul>\n",
       "    <li>formatter: DOUBLE[#,###.00]</li>\n",
       "    </ul>\n",
       "  </li>\n",
       "  <li>Price_coffee_kilo.MEAN\n",
       "    <ul>\n",
       "    <li>formatter: DOUBLE[#,###.00]</li>\n",
       "    </ul>\n",
       "  </li>\n",
       "  <li>Price_coffee_kilo.SUM\n",
       "    <ul>\n",
       "    <li>formatter: DOUBLE[#,###.00]</li>\n",
       "    </ul>\n",
       "  </li>\n",
       "  <li>Price_rice_infl.MEAN\n",
       "    <ul>\n",
       "    <li>formatter: DOUBLE[#,###.00]</li>\n",
       "    </ul>\n",
       "  </li>\n",
       "  <li>Price_rice_infl.SUM\n",
       "    <ul>\n",
       "    <li>formatter: DOUBLE[#,###.00]</li>\n",
       "    </ul>\n",
       "  </li>\n",
       "  <li>Price_rice_kilo.MEAN\n",
       "    <ul>\n",
       "    <li>formatter: DOUBLE[#,###.00]</li>\n",
       "    </ul>\n",
       "  </li>\n",
       "  <li>Price_rice_kilo.SUM\n",
       "    <ul>\n",
       "    <li>formatter: DOUBLE[#,###.00]</li>\n",
       "    </ul>\n",
       "  </li>\n",
       "  <li>contributors.COUNT\n",
       "    <ul>\n",
       "    <li>formatter: INT[#,###]</li>\n",
       "    </ul>\n",
       "  </li>\n",
       "  </ul>\n",
       "</li>\n",
       "</ul>\n"
      ],
      "text/plain": [
       "Measures()"
      ]
     },
     "execution_count": 12,
     "metadata": {
      "application/json": {
       "expanded": false,
       "root": "Measures"
      }
     },
     "output_type": "execute_result"
    }
   ],
   "source": [
    "m"
   ]
  },
  {
   "cell_type": "code",
   "execution_count": 13,
   "id": "97da744a-c309-411f-b1de-15d7222d6d6d",
   "metadata": {
    "atoti": {
     "widget": {
      "mapping": {
       "horizontalSubplots": [],
       "splitBy": [
        "ALL_MEASURES"
       ],
       "values": [
        "[Measures].[Price_beef_infl.SUM]"
       ],
       "verticalSubplots": [],
       "xAxis": [
        "[Data].[Year].[Year]",
        "[Data].[Month].[Month]"
       ]
      },
      "query": {
       "mdx": "SELECT NON EMPTY Crossjoin(Hierarchize(Descendants({[Data].[Year].[AllMember]}, 1, SELF_AND_BEFORE)), Hierarchize(Descendants({[Data].[Month].[AllMember]}, 1, SELF_AND_BEFORE))) ON ROWS, NON EMPTY {[Measures].[Price_beef_infl.SUM]} ON COLUMNS FROM [Data] CELL PROPERTIES VALUE, FORMATTED_VALUE, BACK_COLOR, FORE_COLOR, FONT_FLAGS",
       "updateMode": "once"
      },
      "serverKey": "default",
      "widgetKey": "plotly-line-chart"
     }
    },
    "tags": []
   },
   "outputs": [
    {
     "data": {
      "application/vnd.atoti.widget.v0+json": {
       "name": null,
       "sessionId": "689613c3-8a84-4f40-8f87-5adb0fe98739",
       "sessionLocation": {
        "https": null,
        "port": 53398
       },
       "widgetCreationCode": "session.visualize()"
      },
      "text/plain": [
       "Open the notebook in JupyterLab with the atoti extension enabled to build this widget."
      ]
     },
     "metadata": {},
     "output_type": "display_data"
    }
   ],
   "source": [
    "session.visualize()"
   ]
  }
 ],
 "metadata": {
  "kernelspec": {
   "display_name": "Python 3 (ipykernel)",
   "language": "python",
   "name": "python3"
  },
  "language_info": {
   "codemirror_mode": {
    "name": "ipython",
    "version": 3
   },
   "file_extension": ".py",
   "mimetype": "text/x-python",
   "name": "python",
   "nbconvert_exporter": "python",
   "pygments_lexer": "ipython3",
   "version": "3.10.2"
  }
 },
 "nbformat": 4,
 "nbformat_minor": 5
}
